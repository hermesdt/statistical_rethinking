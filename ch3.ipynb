{
 "cells": [
  {
   "cell_type": "code",
   "execution_count": 1,
   "metadata": {},
   "outputs": [],
   "source": [
    "import pymc3 as pm\n",
    "import numpy as np\n",
    "from scipy import stats\n",
    "import matplotlib.pyplot as plt"
   ]
  },
  {
   "cell_type": "code",
   "execution_count": 9,
   "metadata": {},
   "outputs": [],
   "source": [
    "p_grid = np.linspace(0, 1, 1000)\n",
    "prior = np.ones(1000)\n",
    "likelihood = stats.binom.pmf(6, n=9, p=p_grid)\n",
    "posterior = likelihood * prior\n",
    "posterior = posterior / posterior.sum()"
   ]
  },
  {
   "cell_type": "code",
   "execution_count": 113,
   "metadata": {},
   "outputs": [],
   "source": [
    "np.random.seed(10)\n",
    "samples = np.random.choice(p_grid, p=posterior, size=10000, replace=True)"
   ]
  },
  {
   "cell_type": "code",
   "execution_count": 114,
   "metadata": {},
   "outputs": [
    {
     "data": {
      "image/png": "[encoded data removed]",
      "text/plain": [
       "<Figure size 432x288 with 1 Axes>"
      ]
     },
     "metadata": {
      "needs_background": "light"
     },
     "output_type": "display_data"
    }
   ],
   "source": [
    "plt.hist(samples, bins=100);None"
   ]
  },
  {
   "cell_type": "code",
   "execution_count": 115,
   "metadata": {},
   "outputs": [
    {
     "name": "stdout",
     "output_type": "stream",
     "text": [
      "how much posterior prob lies below p = 0.2? 0.0009\n",
      "how much posterior prob lies above p = 0.8? 0.1203\n",
      "how much posterior prob lies between 0.2 and 0.8? 0.8788\n"
     ]
    }
   ],
   "source": [
    "print(\"how much posterior prob lies below p = 0.2? %.4f\" % posterior[p_grid<0.2].sum())\n",
    "print(\"how much posterior prob lies above p = 0.8? %.4f\" % posterior[p_grid>=0.8].sum())\n",
    "print(\"how much posterior prob lies between 0.2 and 0.8? %.4f\" % posterior[(p_grid>=0.2) & (p_grid<0.8)].sum())"
   ]
  },
  {
   "cell_type": "code",
   "execution_count": 116,
   "metadata": {},
   "outputs": [
    {
     "name": "stdout",
     "output_type": "stream",
     "text": [
      "20% of the posterior prob lies below which values of p? 0.5105\n",
      "20% of the posterior prob lies above which values of p? 0.7578\n"
     ]
    }
   ],
   "source": [
    "print(\"20%% of the posterior prob lies below which values of p? %.4f\" % np.percentile(samples, 20))\n",
    "print(\"20%% of the posterior prob lies above which values of p? %.4f\" % np.percentile(samples, 80))"
   ]
  },
  {
   "cell_type": "code",
   "execution_count": 117,
   "metadata": {},
   "outputs": [
    {
     "name": "stdout",
     "output_type": "stream",
     "text": [
      "which values of p contain the narrowest interval equal to 66% of the posterior probability? 0.5125, 0.7858\n"
     ]
    }
   ],
   "source": [
    "print(\"which values of p contain the narrowest interval equal to 66%% of the posterior probability? %.4f, %.4f\" % \\\n",
    "    tuple([*list(pm.stats.hdi(samples, hdi_prob=0.66))]))"
   ]
  },
  {
   "cell_type": "code",
   "execution_count": 173,
   "metadata": {},
   "outputs": [],
   "source": [
    "prior = np.ones(len(p_grid))\n",
    "# prior[p_grid < 0.5] = 0\n",
    "likelihood = stats.binom.pmf(8, n=15, p=p_grid)\n",
    "posterior = likelihood * prior\n",
    "posterior = posterior / posterior.sum()\n",
    "\n",
    "np.random.seed(10)\n",
    "samples = np.random.choice(p_grid, p=posterior, size=10000, replace=True)"
   ]
  },
  {
   "cell_type": "code",
   "execution_count": 174,
   "metadata": {},
   "outputs": [
    {
     "data": {
      "image/png": "[encoded data removed]",
      "text/plain": [
       "<Figure size 432x288 with 1 Axes>"
      ]
     },
     "metadata": {
      "needs_background": "light"
     },
     "output_type": "display_data"
    }
   ],
   "source": [
    "plt.hist(samples, bins=100);None"
   ]
  },
  {
   "cell_type": "code",
   "execution_count": 175,
   "metadata": {},
   "outputs": [
    {
     "name": "stdout",
     "output_type": "stream",
     "text": [
      "which values of p contain the narrowest interval equal to 66% of the posterior probability? 0.3293, 0.7197\n"
     ]
    }
   ],
   "source": [
    "print(\"which values of p contain the narrowest interval equal to 66%% of the posterior probability? %.4f, %.4f\" % \\\n",
    "    tuple([*list(pm.stats.hdi(samples, hdi_prob=0.9))]))"
   ]
  },
  {
   "cell_type": "markdown",
   "metadata": {},
   "source": [
    "### 3M3"
   ]
  },
  {
   "cell_type": "code",
   "execution_count": 176,
   "metadata": {},
   "outputs": [
    {
     "data": {
      "text/plain": [
       "0.1441"
      ]
     },
     "execution_count": 176,
     "metadata": {},
     "output_type": "execute_result"
    }
   ],
   "source": [
    "s = stats.binom.rvs(size=10000, n=15, p=samples)\n",
    "(s == 8).sum() / len(s)"
   ]
  },
  {
   "cell_type": "code",
   "execution_count": 177,
   "metadata": {},
   "outputs": [
    {
     "data": {
      "text/plain": [
       "0.1737"
      ]
     },
     "execution_count": 177,
     "metadata": {},
     "output_type": "execute_result"
    }
   ],
   "source": [
    "s = stats.binom.rvs(size=10000, n=9, p=samples)\n",
    "(s == 6).sum() / len(s)"
   ]
  },
  {
   "cell_type": "markdown",
   "metadata": {},
   "source": [
    "### Hard exercises"
   ]
  },
  {
   "cell_type": "code",
   "execution_count": 178,
   "metadata": {},
   "outputs": [],
   "source": [
    "birth1 = np.array([1,0,0,0,1,1,0,1,0,1,0,0,1,1,0,1,1,0,0,0,1,0,0,0,1,0, 0,0,0,1,1,1,0,1,0,1,1,1,0,1,0,1,1,0,1,0,0,1,1,0,1,0,0,0,0,0,0,0, 1,1,0,1,0,0,1,0,0,0,1,0,0,1,1,1,1,0,1,0,1,1,1,1,1,0,0,1,0,1,1,0,1,0,1,1,1,0,1,1,1,1])\n",
    "birth2 = np.array([0,1,0,1,0,1,1,1,0,0,1,1,1,1,1,0,0,1,1,1,0,0,1,1,1,0,\n",
    "1,1,1,0,1,1,1,0,1,0,0,1,1,1,1,0,0,1,0,1,1,1,1,1,1,1,1,1,1,1,1,1,\n",
    "1,1,1,0,1,1,0,1,1,0,1,1,1,0,0,0,0,0,0,1,0,0,0,1,1,0,0,1,0,0,1,1,\n",
    "0,0,0,1,1,1,0,0,0,0])"
   ]
  },
  {
   "cell_type": "code",
   "execution_count": 184,
   "metadata": {},
   "outputs": [],
   "source": [
    "all = np.concatenate([birth1, birth2], axis=0)"
   ]
  },
  {
   "cell_type": "code",
   "execution_count": 193,
   "metadata": {},
   "outputs": [],
   "source": [
    "p_grid = np.linspace(0, 1, 10000)\n",
    "prior = np.ones(len(p_grid))\n",
    "likelihood = stats.binom.pmf((all==1).sum(), len(all), p=p_grid)\n",
    "posterior = prior*likelihood\n",
    "posterior = posterior / sum(posterior)"
   ]
  },
  {
   "cell_type": "code",
   "execution_count": 199,
   "metadata": {},
   "outputs": [
    {
     "data": {
      "text/plain": [
       "0.5549554955495549"
      ]
     },
     "execution_count": 199,
     "metadata": {},
     "output_type": "execute_result"
    },
    {
     "data": {
      "image/png": "[encoded data removed]",
      "text/plain": [
       "<Figure size 432x288 with 1 Axes>"
      ]
     },
     "metadata": {
      "needs_background": "light"
     },
     "output_type": "display_data"
    }
   ],
   "source": [
    "plt.scatter(p_grid, posterior, s=1)\n",
    "p_grid[np.argmax(posterior)]"
   ]
  },
  {
   "cell_type": "code",
   "execution_count": 203,
   "metadata": {},
   "outputs": [],
   "source": [
    "samples = np.random.choice(p_grid, p=posterior, size=10000, replace=True)"
   ]
  },
  {
   "cell_type": "code",
   "execution_count": 212,
   "metadata": {},
   "outputs": [
    {
     "data": {
      "text/plain": [
       "array([0.48194819, 0.49884988, 0.52875288, 0.57485749, 0.60746075,\n",
       "       0.62926293])"
      ]
     },
     "execution_count": 212,
     "metadata": {},
     "output_type": "execute_result"
    }
   ],
   "source": [
    "x = np.concatenate(\n",
    "    [pm.stats.hdi(samples, hdi_prob=0.5), pm.stats.hdi(samples, hdi_prob=0.89), pm.stats.hdi(samples, hdi_prob=.97)]\n",
    ", axis=0)\n",
    "x.sort()\n",
    "x"
   ]
  },
  {
   "cell_type": "code",
   "execution_count": 220,
   "metadata": {},
   "outputs": [
    {
     "data": {
      "image/png": "[encoded data removed]",
      "text/plain": [
       "<Figure size 432x288 with 1 Axes>"
      ]
     },
     "metadata": {
      "needs_background": "light"
     },
     "output_type": "display_data"
    }
   ],
   "source": [
    "plt.hist(stats.binom.rvs(size=10000, n=200, p=samples), bins=100);None"
   ]
  },
  {
   "cell_type": "code",
   "execution_count": 235,
   "metadata": {},
   "outputs": [
    {
     "data": {
      "text/plain": [
       "<matplotlib.lines.Line2D at 0x7f9d807f4490>"
      ]
     },
     "execution_count": 235,
     "metadata": {},
     "output_type": "execute_result"
    },
    {
     "data": {
      "image/png": "[encoded data removed]",
      "text/plain": [
       "<Figure size 432x288 with 1 Axes>"
      ]
     },
     "metadata": {
      "needs_background": "light"
     },
     "output_type": "display_data"
    }
   ],
   "source": [
    "plt.hist(stats.binom.rvs(size=10000, n=100, p=samples), bins=60);None\n",
    "plt.axvline(birth1.sum(), c=\"red\")"
   ]
  },
  {
   "cell_type": "code",
   "execution_count": null,
   "metadata": {},
   "outputs": [],
   "source": []
  }
 ],
 "metadata": {
  "interpreter": {
   "hash": "df22d9cdecafb0e9cd6e756d181f2397dc14b632247a3c51849726e777ab9699"
  },
  "kernelspec": {
   "display_name": "Python 3.7.12 ('rethinking')",
   "language": "python",
   "name": "python3"
  },
  "language_info": {
   "codemirror_mode": {
    "name": "ipython",
    "version": 3
   },
   "file_extension": ".py",
   "mimetype": "text/x-python",
   "name": "python",
   "nbconvert_exporter": "python",
   "pygments_lexer": "ipython3",
   "version": "3.7.12"
  },
  "orig_nbformat": 4
 },
 "nbformat": 4,
 "nbformat_minor": 2
}
