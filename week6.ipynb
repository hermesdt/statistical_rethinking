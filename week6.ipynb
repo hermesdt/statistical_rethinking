{
 "cells": [
  {
   "cell_type": "code",
   "execution_count": 2,
   "metadata": {},
   "outputs": [],
   "source": [
    "%load_ext autoreload\n",
    "%autoreload 2"
   ]
  },
  {
   "cell_type": "code",
   "execution_count": 88,
   "metadata": {},
   "outputs": [],
   "source": [
    "import pymc as pm\n",
    "import arviz as az\n",
    "import matplotlib.pyplot as plt\n",
    "import numpy as np\n",
    "import utils\n",
    "import pandas as pd\n",
    "import seaborn as sns\n",
    "from functools import partial\n",
    "import matplotlib.cm as cm\n",
    "from matplotlib.colors import Normalize\n",
    "from scipy import stats\n",
    "import xarray"
   ]
  },
  {
   "cell_type": "code",
   "execution_count": 4,
   "metadata": {},
   "outputs": [],
   "source": [
    "def gen_data(lam: float, n=1000):\n",
    "    sigma = np.random.exponential(lam, size=n)\n",
    "    a_bar = np.random.normal(0, 1.5, size=n)\n",
    "    a = np.random.normal(a_bar, sigma, size=n)\n",
    "    return a"
   ]
  },
  {
   "cell_type": "code",
   "execution_count": 5,
   "metadata": {},
   "outputs": [
    {
     "data": {
      "text/plain": [
       "<AxesSubplot:>"
      ]
     },
     "execution_count": 5,
     "metadata": {},
     "output_type": "execute_result"
    },
    {
     "data": {
      "image/png": "[encoded data removed]",
      "text/plain": [
       "<Figure size 460.8x345.6 with 1 Axes>"
      ]
     },
     "metadata": {
      "needs_background": "light"
     },
     "output_type": "display_data"
    }
   ],
   "source": [
    "az.plot_dist(utils.sigmoid(gen_data(lam=.1,)), label=\"lambda 0.1\", color=\"C0\")\n",
    "az.plot_dist(utils.sigmoid(gen_data(lam=.5,)), label=\"lambda 0.5\", color=\"C1\")\n",
    "az.plot_dist(utils.sigmoid(gen_data(lam=1,)), label=\"lambda 1\", color=\"C2\")\n",
    "az.plot_dist(utils.sigmoid(gen_data(lam=5,)), label=\"lambda 5\", color=\"C3\")\n",
    "az.plot_dist(utils.sigmoid(gen_data(lam=10,)), label=\"lambda 10\", color=\"C4\")"
   ]
  },
  {
   "cell_type": "code",
   "execution_count": 6,
   "metadata": {},
   "outputs": [
    {
     "data": {
      "text/html": [
       "<div>\n",
       "<style scoped>\n",
       "    .dataframe tbody tr th:only-of-type {\n",
       "        vertical-align: middle;\n",
       "    }\n",
       "\n",
       "    .dataframe tbody tr th {\n",
       "        vertical-align: top;\n",
       "    }\n",
       "\n",
       "    .dataframe thead th {\n",
       "        text-align: right;\n",
       "    }\n",
       "</style>\n",
       "<table border=\"1\" class=\"dataframe\">\n",
       "  <thead>\n",
       "    <tr style=\"text-align: right;\">\n",
       "      <th></th>\n",
       "      <th>density</th>\n",
       "      <th>pred</th>\n",
       "      <th>size</th>\n",
       "      <th>surv</th>\n",
       "      <th>propsurv</th>\n",
       "    </tr>\n",
       "  </thead>\n",
       "  <tbody>\n",
       "    <tr>\n",
       "      <th>0</th>\n",
       "      <td>10</td>\n",
       "      <td>no</td>\n",
       "      <td>big</td>\n",
       "      <td>9</td>\n",
       "      <td>0.9</td>\n",
       "    </tr>\n",
       "    <tr>\n",
       "      <th>1</th>\n",
       "      <td>10</td>\n",
       "      <td>no</td>\n",
       "      <td>big</td>\n",
       "      <td>10</td>\n",
       "      <td>1.0</td>\n",
       "    </tr>\n",
       "    <tr>\n",
       "      <th>2</th>\n",
       "      <td>10</td>\n",
       "      <td>no</td>\n",
       "      <td>big</td>\n",
       "      <td>7</td>\n",
       "      <td>0.7</td>\n",
       "    </tr>\n",
       "    <tr>\n",
       "      <th>3</th>\n",
       "      <td>10</td>\n",
       "      <td>no</td>\n",
       "      <td>big</td>\n",
       "      <td>10</td>\n",
       "      <td>1.0</td>\n",
       "    </tr>\n",
       "    <tr>\n",
       "      <th>4</th>\n",
       "      <td>10</td>\n",
       "      <td>no</td>\n",
       "      <td>small</td>\n",
       "      <td>9</td>\n",
       "      <td>0.9</td>\n",
       "    </tr>\n",
       "  </tbody>\n",
       "</table>\n",
       "</div>"
      ],
      "text/plain": [
       "   density pred   size  surv  propsurv\n",
       "0       10   no    big     9       0.9\n",
       "1       10   no    big    10       1.0\n",
       "2       10   no    big     7       0.7\n",
       "3       10   no    big    10       1.0\n",
       "4       10   no  small     9       0.9"
      ]
     },
     "execution_count": 6,
     "metadata": {},
     "output_type": "execute_result"
    }
   ],
   "source": [
    "df = pd.read_csv(\"data/reedfrogs.csv\", sep=\";\")\n",
    "df.head()"
   ]
  },
  {
   "cell_type": "code",
   "execution_count": 7,
   "metadata": {},
   "outputs": [
    {
     "data": {
      "text/html": [
       "<div>\n",
       "<style scoped>\n",
       "    .dataframe tbody tr th:only-of-type {\n",
       "        vertical-align: middle;\n",
       "    }\n",
       "\n",
       "    .dataframe tbody tr th {\n",
       "        vertical-align: top;\n",
       "    }\n",
       "\n",
       "    .dataframe thead th {\n",
       "        text-align: right;\n",
       "    }\n",
       "</style>\n",
       "<table border=\"1\" class=\"dataframe\">\n",
       "  <thead>\n",
       "    <tr style=\"text-align: right;\">\n",
       "      <th></th>\n",
       "      <th>density</th>\n",
       "      <th>pred</th>\n",
       "      <th>size</th>\n",
       "      <th>surv</th>\n",
       "      <th>propsurv</th>\n",
       "      <th>tank</th>\n",
       "    </tr>\n",
       "  </thead>\n",
       "  <tbody>\n",
       "    <tr>\n",
       "      <th>0</th>\n",
       "      <td>10</td>\n",
       "      <td>no</td>\n",
       "      <td>big</td>\n",
       "      <td>9</td>\n",
       "      <td>0.9</td>\n",
       "      <td>0</td>\n",
       "    </tr>\n",
       "    <tr>\n",
       "      <th>1</th>\n",
       "      <td>10</td>\n",
       "      <td>no</td>\n",
       "      <td>big</td>\n",
       "      <td>10</td>\n",
       "      <td>1.0</td>\n",
       "      <td>1</td>\n",
       "    </tr>\n",
       "    <tr>\n",
       "      <th>2</th>\n",
       "      <td>10</td>\n",
       "      <td>no</td>\n",
       "      <td>big</td>\n",
       "      <td>7</td>\n",
       "      <td>0.7</td>\n",
       "      <td>2</td>\n",
       "    </tr>\n",
       "    <tr>\n",
       "      <th>3</th>\n",
       "      <td>10</td>\n",
       "      <td>no</td>\n",
       "      <td>big</td>\n",
       "      <td>10</td>\n",
       "      <td>1.0</td>\n",
       "      <td>3</td>\n",
       "    </tr>\n",
       "    <tr>\n",
       "      <th>4</th>\n",
       "      <td>10</td>\n",
       "      <td>no</td>\n",
       "      <td>small</td>\n",
       "      <td>9</td>\n",
       "      <td>0.9</td>\n",
       "      <td>4</td>\n",
       "    </tr>\n",
       "  </tbody>\n",
       "</table>\n",
       "</div>"
      ],
      "text/plain": [
       "   density pred   size  surv  propsurv  tank\n",
       "0       10   no    big     9       0.9     0\n",
       "1       10   no    big    10       1.0     1\n",
       "2       10   no    big     7       0.7     2\n",
       "3       10   no    big    10       1.0     3\n",
       "4       10   no  small     9       0.9     4"
      ]
     },
     "execution_count": 7,
     "metadata": {},
     "output_type": "execute_result"
    }
   ],
   "source": [
    "df['size'] = pd.Categorical(df[\"size\"], categories=[\"small\", \"big\"], ordered=True)\n",
    "df['pred'] = pd.Categorical(df[\"pred\"], categories=[\"no\", \"pred\"])\n",
    "df['tank'] = df.index.values\n",
    "df.head()"
   ]
  },
  {
   "cell_type": "code",
   "execution_count": 8,
   "metadata": {},
   "outputs": [
    {
     "name": "stderr",
     "output_type": "stream",
     "text": [
      "Auto-assigning NUTS sampler...\n",
      "Initializing NUTS using jitter+adapt_diag...\n",
      "Sequential sampling (1 chains in 1 job)\n",
      "NUTS: [sigma, a_bar, a]\n"
     ]
    },
    {
     "data": {
      "text/html": [
       "\n",
       "<style>\n",
       "    /* Turns off some styling */\n",
       "    progress {\n",
       "        /* gets rid of default border in Firefox and Opera. */\n",
       "        border: none;\n",
       "        /* Needs to be in here for Safari polyfill so background images work as expected. */\n",
       "        background-size: auto;\n",
       "    }\n",
       "    progress:not([value]), progress:not([value])::-webkit-progress-bar {\n",
       "        background: repeating-linear-gradient(45deg, #7e7e7e, #7e7e7e 10px, #5c5c5c 10px, #5c5c5c 20px);\n",
       "    }\n",
       "    .progress-bar-interrupted, .progress-bar-interrupted::-webkit-progress-bar {\n",
       "        background: #F44336;\n",
       "    }\n",
       "</style>\n"
      ],
      "text/plain": [
       "<IPython.core.display.HTML object>"
      ]
     },
     "metadata": {},
     "output_type": "display_data"
    },
    {
     "data": {
      "text/html": [
       "\n",
       "    <div>\n",
       "      <progress value='1500' class='' max='1500' style='width:300px; height:20px; vertical-align: middle;'></progress>\n",
       "      100.00% [1500/1500 00:01&lt;00:00 Sampling chain 0, 0 divergences]\n",
       "    </div>\n",
       "    "
      ],
      "text/plain": [
       "<IPython.core.display.HTML object>"
      ]
     },
     "metadata": {},
     "output_type": "display_data"
    },
    {
     "name": "stderr",
     "output_type": "stream",
     "text": [
      "Sampling 1 chain for 1_000 tune and 500 draw iterations (1_000 + 500 draws total) took 2 seconds.\n"
     ]
    }
   ],
   "source": [
    "coords = {\n",
    "    \"tanks_dim\": df.tank\n",
    "}\n",
    "\n",
    "with pm.Model(coords=coords) as model1:\n",
    "    sigma = pm.Exponential(\"sigma\", 1)\n",
    "    a_bar = pm.Normal(\"a_bar\", mu=0, sigma=1.5)\n",
    "    a = pm.Normal(\"a\", mu=a_bar, sigma=sigma, dims=\"tanks_dim\")\n",
    "\n",
    "    p = pm.Deterministic(\"p\", pm.math.sigmoid(a[df.tank]))\n",
    "\n",
    "    pm.Binomial(\"surv_hat\", n=df.density, p=p, observed=df.surv)\n",
    "\n",
    "    trace1 = pm.sample(draws=500, chains=1)"
   ]
  },
  {
   "cell_type": "code",
   "execution_count": 14,
   "metadata": {},
   "outputs": [
    {
     "name": "stderr",
     "output_type": "stream",
     "text": [
      "Auto-assigning NUTS sampler...\n",
      "Initializing NUTS using jitter+adapt_diag...\n",
      "Multiprocess sampling (4 chains in 4 jobs)\n",
      "NUTS: [sigma, alpha, beta]\n"
     ]
    },
    {
     "data": {
      "text/html": [
       "\n",
       "<style>\n",
       "    /* Turns off some styling */\n",
       "    progress {\n",
       "        /* gets rid of default border in Firefox and Opera. */\n",
       "        border: none;\n",
       "        /* Needs to be in here for Safari polyfill so background images work as expected. */\n",
       "        background-size: auto;\n",
       "    }\n",
       "    progress:not([value]), progress:not([value])::-webkit-progress-bar {\n",
       "        background: repeating-linear-gradient(45deg, #7e7e7e, #7e7e7e 10px, #5c5c5c 10px, #5c5c5c 20px);\n",
       "    }\n",
       "    .progress-bar-interrupted, .progress-bar-interrupted::-webkit-progress-bar {\n",
       "        background: #F44336;\n",
       "    }\n",
       "</style>\n"
      ],
      "text/plain": [
       "<IPython.core.display.HTML object>"
      ]
     },
     "metadata": {},
     "output_type": "display_data"
    },
    {
     "data": {
      "text/html": [
       "\n",
       "    <div>\n",
       "      <progress value='12000' class='' max='12000' style='width:300px; height:20px; vertical-align: middle;'></progress>\n",
       "      100.00% [12000/12000 00:03&lt;00:00 Sampling 4 chains, 0 divergences]\n",
       "    </div>\n",
       "    "
      ],
      "text/plain": [
       "<IPython.core.display.HTML object>"
      ]
     },
     "metadata": {},
     "output_type": "display_data"
    },
    {
     "name": "stderr",
     "output_type": "stream",
     "text": [
      "Sampling 4 chains for 1_000 tune and 2_000 draw iterations (4_000 + 8_000 draws total) took 11 seconds.\n"
     ]
    }
   ],
   "source": [
    "coords = {\n",
    "    \"tanks_dim\": df.tank,\n",
    "    \"pred_dim\": df.pred.cat.categories,\n",
    "    \"size_dim\": df[\"size\"].cat.categories\n",
    "}\n",
    "\n",
    "size_idx = df[\"size\"].cat.codes\n",
    "pred_idx = df.pred.cat.codes\n",
    "\n",
    "with pm.Model(coords=coords) as model2:\n",
    "    sigma = pm.Exponential(\"sigma\", 1)\n",
    "    alpha = pm.Normal(\"alpha\", mu=0, sigma=sigma, dims=\"tanks_dim\")\n",
    "    beta = pm.Normal(\"beta\", mu=0, sigma=1, dims=(\"pred_dim\", \"size_dim\"))\n",
    "\n",
    "    p = pm.Deterministic(\"p\", pm.math.sigmoid(alpha[df.tank] + beta[pred_idx, size_idx]))\n",
    "\n",
    "    pm.Binomial(\"surv_hat\", n=df.density, p=p, observed=df.surv)\n",
    "\n",
    "    trace2 = pm.sample(draws=2000, chains=4)"
   ]
  },
  {
   "cell_type": "code",
   "execution_count": 15,
   "metadata": {},
   "outputs": [
    {
     "data": {
      "text/html": [
       "<div>\n",
       "<style scoped>\n",
       "    .dataframe tbody tr th:only-of-type {\n",
       "        vertical-align: middle;\n",
       "    }\n",
       "\n",
       "    .dataframe tbody tr th {\n",
       "        vertical-align: top;\n",
       "    }\n",
       "\n",
       "    .dataframe thead th {\n",
       "        text-align: right;\n",
       "    }\n",
       "</style>\n",
       "<table border=\"1\" class=\"dataframe\">\n",
       "  <thead>\n",
       "    <tr style=\"text-align: right;\">\n",
       "      <th></th>\n",
       "      <th>mean</th>\n",
       "      <th>sd</th>\n",
       "      <th>hdi_3%</th>\n",
       "      <th>hdi_97%</th>\n",
       "      <th>mcse_mean</th>\n",
       "      <th>mcse_sd</th>\n",
       "      <th>ess_bulk</th>\n",
       "      <th>ess_tail</th>\n",
       "      <th>r_hat</th>\n",
       "    </tr>\n",
       "  </thead>\n",
       "  <tbody>\n",
       "    <tr>\n",
       "      <th>beta[no, small]</th>\n",
       "      <td>2.371</td>\n",
       "      <td>0.306</td>\n",
       "      <td>1.803</td>\n",
       "      <td>2.950</td>\n",
       "      <td>0.004</td>\n",
       "      <td>0.003</td>\n",
       "      <td>5419.0</td>\n",
       "      <td>5663.0</td>\n",
       "      <td>1.0</td>\n",
       "    </tr>\n",
       "    <tr>\n",
       "      <th>beta[no, big]</th>\n",
       "      <td>2.505</td>\n",
       "      <td>0.306</td>\n",
       "      <td>1.956</td>\n",
       "      <td>3.099</td>\n",
       "      <td>0.004</td>\n",
       "      <td>0.003</td>\n",
       "      <td>5889.0</td>\n",
       "      <td>5667.0</td>\n",
       "      <td>1.0</td>\n",
       "    </tr>\n",
       "    <tr>\n",
       "      <th>beta[pred, small]</th>\n",
       "      <td>0.445</td>\n",
       "      <td>0.248</td>\n",
       "      <td>-0.024</td>\n",
       "      <td>0.910</td>\n",
       "      <td>0.004</td>\n",
       "      <td>0.003</td>\n",
       "      <td>3583.0</td>\n",
       "      <td>4085.0</td>\n",
       "      <td>1.0</td>\n",
       "    </tr>\n",
       "    <tr>\n",
       "      <th>beta[pred, big]</th>\n",
       "      <td>-0.427</td>\n",
       "      <td>0.256</td>\n",
       "      <td>-0.903</td>\n",
       "      <td>0.044</td>\n",
       "      <td>0.004</td>\n",
       "      <td>0.003</td>\n",
       "      <td>3418.0</td>\n",
       "      <td>5095.0</td>\n",
       "      <td>1.0</td>\n",
       "    </tr>\n",
       "    <tr>\n",
       "      <th>sigma</th>\n",
       "      <td>0.731</td>\n",
       "      <td>0.146</td>\n",
       "      <td>0.482</td>\n",
       "      <td>1.017</td>\n",
       "      <td>0.003</td>\n",
       "      <td>0.002</td>\n",
       "      <td>1763.0</td>\n",
       "      <td>2930.0</td>\n",
       "      <td>1.0</td>\n",
       "    </tr>\n",
       "  </tbody>\n",
       "</table>\n",
       "</div>"
      ],
      "text/plain": [
       "                    mean     sd  hdi_3%  hdi_97%  mcse_mean  mcse_sd  \\\n",
       "beta[no, small]    2.371  0.306   1.803    2.950      0.004    0.003   \n",
       "beta[no, big]      2.505  0.306   1.956    3.099      0.004    0.003   \n",
       "beta[pred, small]  0.445  0.248  -0.024    0.910      0.004    0.003   \n",
       "beta[pred, big]   -0.427  0.256  -0.903    0.044      0.004    0.003   \n",
       "sigma              0.731  0.146   0.482    1.017      0.003    0.002   \n",
       "\n",
       "                   ess_bulk  ess_tail  r_hat  \n",
       "beta[no, small]      5419.0    5663.0    1.0  \n",
       "beta[no, big]        5889.0    5667.0    1.0  \n",
       "beta[pred, small]    3583.0    4085.0    1.0  \n",
       "beta[pred, big]      3418.0    5095.0    1.0  \n",
       "sigma                1763.0    2930.0    1.0  "
      ]
     },
     "execution_count": 15,
     "metadata": {},
     "output_type": "execute_result"
    }
   ],
   "source": [
    "az.summary(trace2, var_names=[\"beta\", \"sigma\"])"
   ]
  },
  {
   "cell_type": "code",
   "execution_count": 11,
   "metadata": {},
   "outputs": [
    {
     "name": "stderr",
     "output_type": "stream",
     "text": [
      "/Users/alvaro/miniforge3/envs/rethinking/lib/python3.10/site-packages/arviz/stats/stats.py:812: UserWarning: Estimated shape parameter of Pareto distribution is greater than 0.7 for one or more samples. You should consider using a more robust model, this is because importance sampling is less likely to work well if the marginal posterior and LOO posterior are very different. This is more likely to happen with a non-robust model and highly influential observations.\n",
      "  warnings.warn(\n",
      "/Users/alvaro/miniforge3/envs/rethinking/lib/python3.10/site-packages/arviz/stats/stats.py:812: UserWarning: Estimated shape parameter of Pareto distribution is greater than 0.7 for one or more samples. You should consider using a more robust model, this is because importance sampling is less likely to work well if the marginal posterior and LOO posterior are very different. This is more likely to happen with a non-robust model and highly influential observations.\n",
      "  warnings.warn(\n"
     ]
    },
    {
     "data": {
      "text/html": [
       "<div>\n",
       "<style scoped>\n",
       "    .dataframe tbody tr th:only-of-type {\n",
       "        vertical-align: middle;\n",
       "    }\n",
       "\n",
       "    .dataframe tbody tr th {\n",
       "        vertical-align: top;\n",
       "    }\n",
       "\n",
       "    .dataframe thead th {\n",
       "        text-align: right;\n",
       "    }\n",
       "</style>\n",
       "<table border=\"1\" class=\"dataframe\">\n",
       "  <thead>\n",
       "    <tr style=\"text-align: right;\">\n",
       "      <th></th>\n",
       "      <th>rank</th>\n",
       "      <th>loo</th>\n",
       "      <th>p_loo</th>\n",
       "      <th>d_loo</th>\n",
       "      <th>weight</th>\n",
       "      <th>se</th>\n",
       "      <th>dse</th>\n",
       "      <th>warning</th>\n",
       "      <th>loo_scale</th>\n",
       "    </tr>\n",
       "  </thead>\n",
       "  <tbody>\n",
       "    <tr>\n",
       "      <th>model2</th>\n",
       "      <td>0</td>\n",
       "      <td>-105.402435</td>\n",
       "      <td>26.364410</td>\n",
       "      <td>0.000000</td>\n",
       "      <td>0.755277</td>\n",
       "      <td>4.374409</td>\n",
       "      <td>0.000000</td>\n",
       "      <td>True</td>\n",
       "      <td>log</td>\n",
       "    </tr>\n",
       "    <tr>\n",
       "      <th>model1</th>\n",
       "      <td>1</td>\n",
       "      <td>-107.331542</td>\n",
       "      <td>27.985587</td>\n",
       "      <td>1.929107</td>\n",
       "      <td>0.244723</td>\n",
       "      <td>4.515485</td>\n",
       "      <td>2.989461</td>\n",
       "      <td>True</td>\n",
       "      <td>log</td>\n",
       "    </tr>\n",
       "  </tbody>\n",
       "</table>\n",
       "</div>"
      ],
      "text/plain": [
       "        rank         loo      p_loo     d_loo    weight        se       dse  \\\n",
       "model2     0 -105.402435  26.364410  0.000000  0.755277  4.374409  0.000000   \n",
       "model1     1 -107.331542  27.985587  1.929107  0.244723  4.515485  2.989461   \n",
       "\n",
       "        warning loo_scale  \n",
       "model2     True       log  \n",
       "model1     True       log  "
      ]
     },
     "execution_count": 11,
     "metadata": {},
     "output_type": "execute_result"
    }
   ],
   "source": [
    "az.compare({\"model1\": trace1, \"model2\": trace2})"
   ]
  },
  {
   "cell_type": "code",
   "execution_count": 180,
   "metadata": {},
   "outputs": [
    {
     "name": "stderr",
     "output_type": "stream",
     "text": [
      "Auto-assigning NUTS sampler...\n",
      "Initializing NUTS using jitter+adapt_diag...\n",
      "Multiprocess sampling (4 chains in 4 jobs)\n",
      "NUTS: [sigma, alpha, beta, betaD]\n"
     ]
    },
    {
     "data": {
      "text/html": [
       "\n",
       "<style>\n",
       "    /* Turns off some styling */\n",
       "    progress {\n",
       "        /* gets rid of default border in Firefox and Opera. */\n",
       "        border: none;\n",
       "        /* Needs to be in here for Safari polyfill so background images work as expected. */\n",
       "        background-size: auto;\n",
       "    }\n",
       "    progress:not([value]), progress:not([value])::-webkit-progress-bar {\n",
       "        background: repeating-linear-gradient(45deg, #7e7e7e, #7e7e7e 10px, #5c5c5c 10px, #5c5c5c 20px);\n",
       "    }\n",
       "    .progress-bar-interrupted, .progress-bar-interrupted::-webkit-progress-bar {\n",
       "        background: #F44336;\n",
       "    }\n",
       "</style>\n"
      ],
      "text/plain": [
       "<IPython.core.display.HTML object>"
      ]
     },
     "metadata": {},
     "output_type": "display_data"
    },
    {
     "data": {
      "text/html": [
       "\n",
       "    <div>\n",
       "      <progress value='20000' class='' max='20000' style='width:300px; height:20px; vertical-align: middle;'></progress>\n",
       "      100.00% [20000/20000 00:12&lt;00:00 Sampling 4 chains, 0 divergences]\n",
       "    </div>\n",
       "    "
      ],
      "text/plain": [
       "<IPython.core.display.HTML object>"
      ]
     },
     "metadata": {},
     "output_type": "display_data"
    },
    {
     "name": "stderr",
     "output_type": "stream",
     "text": [
      "Sampling 4 chains for 1_000 tune and 4_000 draw iterations (4_000 + 16_000 draws total) took 21 seconds.\n"
     ]
    }
   ],
   "source": [
    "coords = {\n",
    "    \"tanks_dim\": df.tank,\n",
    "    \"pred_dim\": df.pred.cat.categories,\n",
    "    \"size_dim\": df[\"size\"].cat.categories\n",
    "}\n",
    "\n",
    "size_idx = df[\"size\"].cat.codes\n",
    "pred_idx = df.pred.cat.codes\n",
    "\n",
    "with pm.Model(coords=coords) as model3:\n",
    "    sigma = pm.Exponential(\"sigma\", 1)\n",
    "    alpha = pm.Normal(\"alpha\", mu=0, sigma=sigma, dims=\"tanks_dim\")\n",
    "    beta = pm.Normal(\"beta\", mu=0, sigma=1, dims=(\"pred_dim\", \"size_dim\"))\n",
    "    betaD = pm.Normal(\"betaD\", mu=0, sigma=0.5, dims=(\"pred_dim\"))\n",
    "\n",
    "    density = pm.math.log(df.density)\n",
    "    p = pm.math.sigmoid(alpha[df.tank] + beta[pred_idx, size_idx] + betaD[pred_idx]*density)\n",
    "    p = pm.Deterministic(\"p\", p)\n",
    "    pm.Binomial(\"surv_hat\", n=df.density, p=p, observed=df.surv)\n",
    "\n",
    "    trace3 = pm.sample(draws=4000, chains=4)"
   ]
  },
  {
   "cell_type": "code",
   "execution_count": 181,
   "metadata": {},
   "outputs": [
    {
     "data": {
      "text/html": [
       "<div>\n",
       "<style scoped>\n",
       "    .dataframe tbody tr th:only-of-type {\n",
       "        vertical-align: middle;\n",
       "    }\n",
       "\n",
       "    .dataframe tbody tr th {\n",
       "        vertical-align: top;\n",
       "    }\n",
       "\n",
       "    .dataframe thead th {\n",
       "        text-align: right;\n",
       "    }\n",
       "</style>\n",
       "<table border=\"1\" class=\"dataframe\">\n",
       "  <thead>\n",
       "    <tr style=\"text-align: right;\">\n",
       "      <th></th>\n",
       "      <th>mean</th>\n",
       "      <th>sd</th>\n",
       "      <th>hdi_3%</th>\n",
       "      <th>hdi_97%</th>\n",
       "      <th>mcse_mean</th>\n",
       "      <th>mcse_sd</th>\n",
       "      <th>ess_bulk</th>\n",
       "      <th>ess_tail</th>\n",
       "      <th>r_hat</th>\n",
       "    </tr>\n",
       "  </thead>\n",
       "  <tbody>\n",
       "    <tr>\n",
       "      <th>beta[no, small]</th>\n",
       "      <td>0.622</td>\n",
       "      <td>0.630</td>\n",
       "      <td>-0.573</td>\n",
       "      <td>1.799</td>\n",
       "      <td>0.006</td>\n",
       "      <td>0.004</td>\n",
       "      <td>13099.0</td>\n",
       "      <td>11872.0</td>\n",
       "      <td>1.0</td>\n",
       "    </tr>\n",
       "    <tr>\n",
       "      <th>beta[no, big]</th>\n",
       "      <td>0.772</td>\n",
       "      <td>0.633</td>\n",
       "      <td>-0.441</td>\n",
       "      <td>1.945</td>\n",
       "      <td>0.005</td>\n",
       "      <td>0.004</td>\n",
       "      <td>13254.0</td>\n",
       "      <td>12201.0</td>\n",
       "      <td>1.0</td>\n",
       "    </tr>\n",
       "    <tr>\n",
       "      <th>beta[pred, small]</th>\n",
       "      <td>1.232</td>\n",
       "      <td>0.590</td>\n",
       "      <td>0.096</td>\n",
       "      <td>2.297</td>\n",
       "      <td>0.006</td>\n",
       "      <td>0.004</td>\n",
       "      <td>10628.0</td>\n",
       "      <td>11761.0</td>\n",
       "      <td>1.0</td>\n",
       "    </tr>\n",
       "    <tr>\n",
       "      <th>beta[pred, big]</th>\n",
       "      <td>0.358</td>\n",
       "      <td>0.592</td>\n",
       "      <td>-0.719</td>\n",
       "      <td>1.509</td>\n",
       "      <td>0.006</td>\n",
       "      <td>0.004</td>\n",
       "      <td>10529.0</td>\n",
       "      <td>11888.0</td>\n",
       "      <td>1.0</td>\n",
       "    </tr>\n",
       "    <tr>\n",
       "      <th>betaD[no]</th>\n",
       "      <td>0.610</td>\n",
       "      <td>0.196</td>\n",
       "      <td>0.246</td>\n",
       "      <td>0.978</td>\n",
       "      <td>0.002</td>\n",
       "      <td>0.001</td>\n",
       "      <td>12212.0</td>\n",
       "      <td>10963.0</td>\n",
       "      <td>1.0</td>\n",
       "    </tr>\n",
       "    <tr>\n",
       "      <th>betaD[pred]</th>\n",
       "      <td>-0.269</td>\n",
       "      <td>0.183</td>\n",
       "      <td>-0.617</td>\n",
       "      <td>0.070</td>\n",
       "      <td>0.002</td>\n",
       "      <td>0.001</td>\n",
       "      <td>9644.0</td>\n",
       "      <td>10654.0</td>\n",
       "      <td>1.0</td>\n",
       "    </tr>\n",
       "    <tr>\n",
       "      <th>sigma</th>\n",
       "      <td>0.685</td>\n",
       "      <td>0.145</td>\n",
       "      <td>0.410</td>\n",
       "      <td>0.947</td>\n",
       "      <td>0.002</td>\n",
       "      <td>0.002</td>\n",
       "      <td>3926.0</td>\n",
       "      <td>5288.0</td>\n",
       "      <td>1.0</td>\n",
       "    </tr>\n",
       "  </tbody>\n",
       "</table>\n",
       "</div>"
      ],
      "text/plain": [
       "                    mean     sd  hdi_3%  hdi_97%  mcse_mean  mcse_sd  \\\n",
       "beta[no, small]    0.622  0.630  -0.573    1.799      0.006    0.004   \n",
       "beta[no, big]      0.772  0.633  -0.441    1.945      0.005    0.004   \n",
       "beta[pred, small]  1.232  0.590   0.096    2.297      0.006    0.004   \n",
       "beta[pred, big]    0.358  0.592  -0.719    1.509      0.006    0.004   \n",
       "betaD[no]          0.610  0.196   0.246    0.978      0.002    0.001   \n",
       "betaD[pred]       -0.269  0.183  -0.617    0.070      0.002    0.001   \n",
       "sigma              0.685  0.145   0.410    0.947      0.002    0.002   \n",
       "\n",
       "                   ess_bulk  ess_tail  r_hat  \n",
       "beta[no, small]     13099.0   11872.0    1.0  \n",
       "beta[no, big]       13254.0   12201.0    1.0  \n",
       "beta[pred, small]   10628.0   11761.0    1.0  \n",
       "beta[pred, big]     10529.0   11888.0    1.0  \n",
       "betaD[no]           12212.0   10963.0    1.0  \n",
       "betaD[pred]          9644.0   10654.0    1.0  \n",
       "sigma                3926.0    5288.0    1.0  "
      ]
     },
     "execution_count": 181,
     "metadata": {},
     "output_type": "execute_result"
    }
   ],
   "source": [
    "az.summary(trace3, var_names=[\"beta\", \"betaD\", \"sigma\"])"
   ]
  },
  {
   "cell_type": "code",
   "execution_count": 182,
   "metadata": {},
   "outputs": [],
   "source": [
    "num = 20\n",
    "density = [10,35,10,35]*20\n",
    "density_std = np.log(density) # (density - np.mean(density)) / np.std(density)\n",
    "size = pd.Categorical([\"small\", \"small\", \"big\", \"big\"]*20, categories=[\"small\", \"big\"])\n",
    "pred = pd.Categorical([\"pred\"]*4*20, categories=[\"no\", \"pred\"])"
   ]
  },
  {
   "cell_type": "code",
   "execution_count": 183,
   "metadata": {},
   "outputs": [],
   "source": [
    "aT = [\n",
    "    np.random.normal(0, trace3.posterior[\"sigma\"][0], size=(4000))\n",
    "    for i in range(len(density))\n",
    "]"
   ]
  },
  {
   "cell_type": "code",
   "execution_count": 184,
   "metadata": {},
   "outputs": [],
   "source": [
    "p1 = [\n",
    "    aT[i] + \\\n",
    "    trace3.posterior[\"beta\"][0][:, pred.codes[i], size.codes[i]] + \\\n",
    "    trace3.posterior[\"betaD\"][0][:, pred.codes[i]]*density_std[i]\n",
    "    for i in range(len(density))\n",
    "]\n",
    "\n",
    "intervention = pd.Categorical([\"no\"]*4*20, categories=[\"no\", \"pred\"])\n",
    "p2 = [\n",
    "    aT[i] + \\\n",
    "    trace3.posterior[\"beta\"][0][:, intervention.codes[i], size.codes[i]] + \\\n",
    "    trace3.posterior[\"betaD\"][0][:, intervention.codes[i]]*density_std[i]\n",
    "    for i in range(len(density))\n",
    "]"
   ]
  },
  {
   "cell_type": "code",
   "execution_count": 192,
   "metadata": {},
   "outputs": [
    {
     "data": {
      "text/plain": [
       "Text(0.5, 1.0, 'contrast')"
      ]
     },
     "execution_count": 192,
     "metadata": {},
     "output_type": "execute_result"
    },
    {
     "data": {
      "image/png": "[encoded data removed]",
      "text/plain": [
       "<Figure size 1120x400 with 3 Axes>"
      ]
     },
     "metadata": {
      "needs_background": "light"
     },
     "output_type": "display_data"
    }
   ],
   "source": [
    "plt.figure(figsize=(14,5), dpi=80)\n",
    "plt.subplot(1, 3, 1)\n",
    "az.plot_dist(\n",
    "    utils.sigmoid(np.concatenate([x.to_numpy() for x in p1], axis=0))\n",
    ")\n",
    "plt.title(\"status quo\")\n",
    "\n",
    "plt.subplot(1, 3, 2)\n",
    "az.plot_dist(\n",
    "    utils.sigmoid(np.concatenate([x.to_numpy() for x in p2], axis=0))\n",
    ")\n",
    "plt.title(\"intervention\")\n",
    "\n",
    "plt.subplot(1, 3, 3)\n",
    "contrast = utils.sigmoid(np.concatenate([x.to_numpy() for x in p2], axis=0)) - \\\n",
    "           utils.sigmoid(np.concatenate([x.to_numpy() for x in p1], axis=0))\n",
    "az.plot_dist(contrast)\n",
    "plt.xlim(-0.2, 1)\n",
    "plt.axvline(0, color=\"black\", linestyle=\"--\")\n",
    "plt.title(\"contrast\")"
   ]
  },
  {
   "cell_type": "code",
   "execution_count": null,
   "metadata": {},
   "outputs": [],
   "source": []
  }
 ],
 "metadata": {
  "kernelspec": {
   "display_name": "Python 3.8.5 ('rethinking')",
   "language": "python",
   "name": "python3"
  },
  "language_info": {
   "codemirror_mode": {
    "name": "ipython",
    "version": 3
   },
   "file_extension": ".py",
   "mimetype": "text/x-python",
   "name": "python",
   "nbconvert_exporter": "python",
   "pygments_lexer": "ipython3",
   "version": "3.10.5"
  },
  "orig_nbformat": 4,
  "vscode": {
   "interpreter": {
    "hash": "df22d9cdecafb0e9cd6e756d181f2397dc14b632247a3c51849726e777ab9699"
   }
  }
 },
 "nbformat": 4,
 "nbformat_minor": 2
}
