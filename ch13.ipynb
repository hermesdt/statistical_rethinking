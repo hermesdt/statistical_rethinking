{
 "cells": [
  {
   "cell_type": "code",
   "execution_count": 1,
   "metadata": {},
   "outputs": [],
   "source": [
    "%config InlineBackend.figure_format = 'retina'\n",
    "\n",
    "import utils\n",
    "import pymc as pm\n",
    "import aesara.tensor as at\n",
    "import arviz as az\n",
    "import numpy as np\n",
    "from scipy import stats\n",
    "import matplotlib.pyplot as plt\n",
    "import pandas as pd\n",
    "import seaborn as sns\n",
    "from sklearn.preprocessing import StandardScaler, MinMaxScaler\n",
    "from sklearn.metrics import (\n",
    "    confusion_matrix, ConfusionMatrixDisplay, f1_score, recall_score, precision_score, accuracy_score, roc_curve, RocCurveDisplay, PrecisionRecallDisplay, auc\n",
    ")\n",
    "\n",
    "plt.style.use(['seaborn-v0_8-colorblind', 'seaborn-v0_8-darkgrid'])"
   ]
  },
  {
   "cell_type": "markdown",
   "metadata": {},
   "source": [
    "# 15E1\n",
    "\n",
    "Which of the following priors will produce more shrinkage in the estimates?  \n",
    "a) $a_{tank} \\sim Normal(0,1) $  \n",
    "b) $a_{tank} \\sim Normal(0,2) $"
   ]
  },
  {
   "cell_type": "markdown",
   "metadata": {},
   "source": [
    "a) Will have a higher regularization effect thus higher shrinkage due to being a more constrainted prior."
   ]
  },
  {
   "cell_type": "code",
   "execution_count": 30,
   "metadata": {},
   "outputs": [],
   "source": [
    "df = pd.read_csv(\"data/reedfrogs.csv\", sep=\";\")\n",
    "df['pred'] = df.pred.astype(\"category\")\n",
    "df['size'] = df[\"size\"].astype(\"category\")"
   ]
  },
  {
   "cell_type": "markdown",
   "metadata": {},
   "source": [
    "# 15E2\n",
    "\n",
    "Make the following model into a multilevel model.\n",
    "\n",
    "$\n",
    "\\begin{align}\n",
    "y_i \\sim Binomial(1,p_i) \\\\\n",
    "logit(p_i) = \\alpha_{group[i]} + \\beta x_i \\\\\n",
    "\\alpha_{group} \\sim Normal(0, 10)  \\\\\n",
    "\\beta \\sim Normal(0,1)\n",
    "\\end{align}\n",
    "$"
   ]
  },
  {
   "cell_type": "markdown",
   "metadata": {},
   "source": [
    "$\n",
    "\\begin{align}\n",
    "y_i \\sim Binomial(1,p_i) \\\\\n",
    "logit(p_i) = \\alpha_{i} + \\beta x_i \\\\\n",
    "\\alpha_{i} \\sim Normal(\\alpha_{group[i]}, \\sigma_\\alpha) \\\\\n",
    "\\alpha_{group} \\sim Normal(0, 10)  \\\\\n",
    "\\sigma_\\alpha \\sim Exponential(1) \\\\\n",
    "\\beta \\sim Normal(0,1)  \\\\\n",
    "\\end{align}\n",
    "$"
   ]
  },
  {
   "cell_type": "code",
   "execution_count": null,
   "metadata": {},
   "outputs": [],
   "source": [
    "with pm.Model() as model_15e2:\n",
    "    beta = pm.Normal(\"beta\", 0, 1)\n",
    "    alplha_g = pm.Normal(\"alpha_g\", 0, 10)\n",
    "    p = utils.inv_logit(alplha_g + beta * df.)\n",
    "    pm.Binomial(\"surv\", p=p, n=df.surv)"
   ]
  },
  {
   "cell_type": "code",
   "execution_count": null,
   "metadata": {},
   "outputs": [],
   "source": []
  }
 ],
 "metadata": {
  "interpreter": {
   "hash": "df22d9cdecafb0e9cd6e756d181f2397dc14b632247a3c51849726e777ab9699"
  },
  "kernelspec": {
   "display_name": "Python 3.8.5 ('rethinking')",
   "language": "python",
   "name": "python3"
  },
  "language_info": {
   "codemirror_mode": {
    "name": "ipython",
    "version": 3
   },
   "file_extension": ".py",
   "mimetype": "text/x-python",
   "name": "python",
   "nbconvert_exporter": "python",
   "pygments_lexer": "ipython3",
   "version": "3.10.6"
  },
  "orig_nbformat": 4
 },
 "nbformat": 4,
 "nbformat_minor": 2
}
