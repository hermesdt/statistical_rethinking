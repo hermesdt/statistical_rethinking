{
 "cells": [
  {
   "cell_type": "code",
   "execution_count": 146,
   "metadata": {},
   "outputs": [],
   "source": [
    "%load_ext autoreload\n",
    "%autoreload 2"
   ]
  },
  {
   "cell_type": "code",
   "execution_count": 299,
   "metadata": {},
   "outputs": [],
   "source": [
    "import pymc as pm\n",
    "import arviz as az\n",
    "import matplotlib.pyplot as plt\n",
    "import numpy as np\n",
    "import utils\n",
    "import pandas as pd\n",
    "import seaborn as sns\n",
    "from functools import partial\n",
    "import matplotlib.cm as cm\n",
    "from matplotlib.colors import Normalize"
   ]
  },
  {
   "cell_type": "code",
   "execution_count": 6,
   "metadata": {},
   "outputs": [
    {
     "data": {
      "text/html": [
       "<div>\n",
       "<style scoped>\n",
       "    .dataframe tbody tr th:only-of-type {\n",
       "        vertical-align: middle;\n",
       "    }\n",
       "\n",
       "    .dataframe tbody tr th {\n",
       "        vertical-align: top;\n",
       "    }\n",
       "\n",
       "    .dataframe thead th {\n",
       "        text-align: right;\n",
       "    }\n",
       "</style>\n",
       "<table border=\"1\" class=\"dataframe\">\n",
       "  <thead>\n",
       "    <tr style=\"text-align: right;\">\n",
       "      <th></th>\n",
       "      <th>discipline</th>\n",
       "      <th>gender</th>\n",
       "      <th>applications</th>\n",
       "      <th>awards</th>\n",
       "    </tr>\n",
       "  </thead>\n",
       "  <tbody>\n",
       "    <tr>\n",
       "      <th>0</th>\n",
       "      <td>Chemical sciences</td>\n",
       "      <td>m</td>\n",
       "      <td>83</td>\n",
       "      <td>22</td>\n",
       "    </tr>\n",
       "    <tr>\n",
       "      <th>1</th>\n",
       "      <td>Chemical sciences</td>\n",
       "      <td>f</td>\n",
       "      <td>39</td>\n",
       "      <td>10</td>\n",
       "    </tr>\n",
       "    <tr>\n",
       "      <th>2</th>\n",
       "      <td>Physical sciences</td>\n",
       "      <td>m</td>\n",
       "      <td>135</td>\n",
       "      <td>26</td>\n",
       "    </tr>\n",
       "    <tr>\n",
       "      <th>3</th>\n",
       "      <td>Physical sciences</td>\n",
       "      <td>f</td>\n",
       "      <td>39</td>\n",
       "      <td>9</td>\n",
       "    </tr>\n",
       "    <tr>\n",
       "      <th>4</th>\n",
       "      <td>Physics</td>\n",
       "      <td>m</td>\n",
       "      <td>67</td>\n",
       "      <td>18</td>\n",
       "    </tr>\n",
       "  </tbody>\n",
       "</table>\n",
       "</div>"
      ],
      "text/plain": [
       "          discipline gender  applications  awards\n",
       "0  Chemical sciences      m            83      22\n",
       "1  Chemical sciences      f            39      10\n",
       "2  Physical sciences      m           135      26\n",
       "3  Physical sciences      f            39       9\n",
       "4            Physics      m            67      18"
      ]
     },
     "execution_count": 6,
     "metadata": {},
     "output_type": "execute_result"
    }
   ],
   "source": [
    "df = pd.read_csv(\"data/NWOGrants.csv\", sep=\";\")\n",
    "df.head()"
   ]
  },
  {
   "cell_type": "code",
   "execution_count": 41,
   "metadata": {},
   "outputs": [],
   "source": [
    "df['discipline'] = df['discipline'].astype('category')\n",
    "df['gender'] = df['gender'].astype('category')"
   ]
  },
  {
   "cell_type": "code",
   "execution_count": 90,
   "metadata": {},
   "outputs": [
    {
     "name": "stderr",
     "output_type": "stream",
     "text": [
      "Auto-assigning NUTS sampler...\n",
      "Initializing NUTS using jitter+adapt_diag...\n",
      "Multiprocess sampling (4 chains in 4 jobs)\n",
      "NUTS: [gender_bias]\n"
     ]
    },
    {
     "data": {
      "text/html": [
       "\n",
       "<style>\n",
       "    /* Turns off some styling */\n",
       "    progress {\n",
       "        /* gets rid of default border in Firefox and Opera. */\n",
       "        border: none;\n",
       "        /* Needs to be in here for Safari polyfill so background images work as expected. */\n",
       "        background-size: auto;\n",
       "    }\n",
       "    progress:not([value]), progress:not([value])::-webkit-progress-bar {\n",
       "        background: repeating-linear-gradient(45deg, #7e7e7e, #7e7e7e 10px, #5c5c5c 10px, #5c5c5c 20px);\n",
       "    }\n",
       "    .progress-bar-interrupted, .progress-bar-interrupted::-webkit-progress-bar {\n",
       "        background: #F44336;\n",
       "    }\n",
       "</style>\n"
      ],
      "text/plain": [
       "<IPython.core.display.HTML object>"
      ]
     },
     "metadata": {},
     "output_type": "display_data"
    },
    {
     "data": {
      "text/html": [
       "\n",
       "    <div>\n",
       "      <progress value='12000' class='' max='12000' style='width:300px; height:20px; vertical-align: middle;'></progress>\n",
       "      100.00% [12000/12000 00:01&lt;00:00 Sampling 4 chains, 0 divergences]\n",
       "    </div>\n",
       "    "
      ],
      "text/plain": [
       "<IPython.core.display.HTML object>"
      ]
     },
     "metadata": {},
     "output_type": "display_data"
    },
    {
     "name": "stderr",
     "output_type": "stream",
     "text": [
      "Sampling 4 chains for 1_000 tune and 2_000 draw iterations (4_000 + 8_000 draws total) took 9 seconds.\n"
     ]
    }
   ],
   "source": [
    "coords = {\n",
    "    \"discipline_dim\": df['discipline'].cat.categories,\n",
    "    \"gender_dim\": df['gender'].cat.categories,\n",
    "}\n",
    "with pm.Model(coords=coords) as model1:\n",
    "    awards = pm.MutableData(\"awards_data\", df.awards)\n",
    "    gender_idx = pm.MutableData(\"gender_data\", df.gender.cat.codes)\n",
    "    discipline_idx = pm.MutableData(\"discipline_data\", df.discipline.cat.codes)\n",
    "    applications = pm.MutableData(\"applications_data\", df.applications)\n",
    "\n",
    "    gender_bias = pm.Normal(\"gender_bias\", mu=-1, sigma=1, dims=\"gender_dim\")\n",
    "\n",
    "    p = pm.math.sigmoid(gender_bias[gender_idx])\n",
    "\n",
    "    awards_hat = pm.Binomial(\"awards_hat\", n=applications, p=p, observed=awards)\n",
    "    trace1 = pm.sample(2000, chains=4)\n"
   ]
  },
  {
   "cell_type": "code",
   "execution_count": 91,
   "metadata": {},
   "outputs": [
    {
     "data": {
      "text/html": [
       "<div>\n",
       "<style scoped>\n",
       "    .dataframe tbody tr th:only-of-type {\n",
       "        vertical-align: middle;\n",
       "    }\n",
       "\n",
       "    .dataframe tbody tr th {\n",
       "        vertical-align: top;\n",
       "    }\n",
       "\n",
       "    .dataframe thead th {\n",
       "        text-align: right;\n",
       "    }\n",
       "</style>\n",
       "<table border=\"1\" class=\"dataframe\">\n",
       "  <thead>\n",
       "    <tr style=\"text-align: right;\">\n",
       "      <th></th>\n",
       "      <th>mean</th>\n",
       "      <th>sd</th>\n",
       "      <th>hdi_3%</th>\n",
       "      <th>hdi_97%</th>\n",
       "      <th>mcse_mean</th>\n",
       "      <th>mcse_sd</th>\n",
       "      <th>ess_bulk</th>\n",
       "      <th>ess_tail</th>\n",
       "      <th>r_hat</th>\n",
       "    </tr>\n",
       "  </thead>\n",
       "  <tbody>\n",
       "    <tr>\n",
       "      <th>gender_bias[f]</th>\n",
       "      <td>-1.741</td>\n",
       "      <td>0.081</td>\n",
       "      <td>-1.895</td>\n",
       "      <td>-1.590</td>\n",
       "      <td>0.001</td>\n",
       "      <td>0.001</td>\n",
       "      <td>8752.0</td>\n",
       "      <td>5423.0</td>\n",
       "      <td>1.0</td>\n",
       "    </tr>\n",
       "    <tr>\n",
       "      <th>gender_bias[m]</th>\n",
       "      <td>-1.533</td>\n",
       "      <td>0.065</td>\n",
       "      <td>-1.652</td>\n",
       "      <td>-1.409</td>\n",
       "      <td>0.001</td>\n",
       "      <td>0.001</td>\n",
       "      <td>8207.0</td>\n",
       "      <td>5755.0</td>\n",
       "      <td>1.0</td>\n",
       "    </tr>\n",
       "  </tbody>\n",
       "</table>\n",
       "</div>"
      ],
      "text/plain": [
       "                 mean     sd  hdi_3%  hdi_97%  mcse_mean  mcse_sd  ess_bulk  \\\n",
       "gender_bias[f] -1.741  0.081  -1.895   -1.590      0.001    0.001    8752.0   \n",
       "gender_bias[m] -1.533  0.065  -1.652   -1.409      0.001    0.001    8207.0   \n",
       "\n",
       "                ess_tail  r_hat  \n",
       "gender_bias[f]    5423.0    1.0  \n",
       "gender_bias[m]    5755.0    1.0  "
      ]
     },
     "execution_count": 91,
     "metadata": {},
     "output_type": "execute_result"
    }
   ],
   "source": [
    "az.summary(trace1)"
   ]
  },
  {
   "cell_type": "code",
   "execution_count": 96,
   "metadata": {},
   "outputs": [
    {
     "data": {
      "text/plain": [
       "array([[<AxesSubplot:title={'center':'gender_bias'}>]], dtype=object)"
      ]
     },
     "execution_count": 96,
     "metadata": {},
     "output_type": "execute_result"
    },
    {
     "data": {
      "image/png": "[encoded data removed]",
      "text/plain": [
       "<Figure size 432x288 with 1 Axes>"
      ]
     },
     "metadata": {
      "needs_background": "light"
     },
     "output_type": "display_data"
    }
   ],
   "source": [
    "f = trace1.posterior[\"gender_bias\"][..., 0]\n",
    "m = trace1.posterior[\"gender_bias\"][..., 1]\n",
    "az.plot_density(f - m)"
   ]
  },
  {
   "cell_type": "code",
   "execution_count": 542,
   "metadata": {},
   "outputs": [
    {
     "name": "stderr",
     "output_type": "stream",
     "text": [
      "Auto-assigning NUTS sampler...\n",
      "Initializing NUTS using jitter+adapt_diag...\n",
      "Multiprocess sampling (4 chains in 4 jobs)\n",
      "NUTS: [gender_bias]\n"
     ]
    },
    {
     "data": {
      "text/html": [
       "\n",
       "<style>\n",
       "    /* Turns off some styling */\n",
       "    progress {\n",
       "        /* gets rid of default border in Firefox and Opera. */\n",
       "        border: none;\n",
       "        /* Needs to be in here for Safari polyfill so background images work as expected. */\n",
       "        background-size: auto;\n",
       "    }\n",
       "    progress:not([value]), progress:not([value])::-webkit-progress-bar {\n",
       "        background: repeating-linear-gradient(45deg, #7e7e7e, #7e7e7e 10px, #5c5c5c 10px, #5c5c5c 20px);\n",
       "    }\n",
       "    .progress-bar-interrupted, .progress-bar-interrupted::-webkit-progress-bar {\n",
       "        background: #F44336;\n",
       "    }\n",
       "</style>\n"
      ],
      "text/plain": [
       "<IPython.core.display.HTML object>"
      ]
     },
     "metadata": {},
     "output_type": "display_data"
    },
    {
     "data": {
      "text/html": [
       "\n",
       "    <div>\n",
       "      <progress value='12000' class='' max='12000' style='width:300px; height:20px; vertical-align: middle;'></progress>\n",
       "      100.00% [12000/12000 00:01&lt;00:00 Sampling 4 chains, 0 divergences]\n",
       "    </div>\n",
       "    "
      ],
      "text/plain": [
       "<IPython.core.display.HTML object>"
      ]
     },
     "metadata": {},
     "output_type": "display_data"
    },
    {
     "name": "stderr",
     "output_type": "stream",
     "text": [
      "Sampling 4 chains for 1_000 tune and 2_000 draw iterations (4_000 + 8_000 draws total) took 9 seconds.\n"
     ]
    },
    {
     "data": {
      "text/html": [
       "\n",
       "<style>\n",
       "    /* Turns off some styling */\n",
       "    progress {\n",
       "        /* gets rid of default border in Firefox and Opera. */\n",
       "        border: none;\n",
       "        /* Needs to be in here for Safari polyfill so background images work as expected. */\n",
       "        background-size: auto;\n",
       "    }\n",
       "    progress:not([value]), progress:not([value])::-webkit-progress-bar {\n",
       "        background: repeating-linear-gradient(45deg, #7e7e7e, #7e7e7e 10px, #5c5c5c 10px, #5c5c5c 20px);\n",
       "    }\n",
       "    .progress-bar-interrupted, .progress-bar-interrupted::-webkit-progress-bar {\n",
       "        background: #F44336;\n",
       "    }\n",
       "</style>\n"
      ],
      "text/plain": [
       "<IPython.core.display.HTML object>"
      ]
     },
     "metadata": {},
     "output_type": "display_data"
    },
    {
     "data": {
      "text/html": [
       "\n",
       "    <div>\n",
       "      <progress value='8000' class='' max='8000' style='width:300px; height:20px; vertical-align: middle;'></progress>\n",
       "      100.00% [8000/8000 00:00&lt;00:00]\n",
       "    </div>\n",
       "    "
      ],
      "text/plain": [
       "<IPython.core.display.HTML object>"
      ]
     },
     "metadata": {},
     "output_type": "display_data"
    }
   ],
   "source": [
    "coords = {\n",
    "    \"discipline_dim\": df['discipline'].cat.categories,\n",
    "    \"gender_dim\": df['gender'].cat.categories,\n",
    "}\n",
    "with pm.Model(coords=coords) as model2:\n",
    "    awards = pm.MutableData(\"awards_data\", df.awards)\n",
    "    gender_idx = pm.MutableData(\"gender_data\", df.gender.cat.codes)\n",
    "    discipline_idx = pm.MutableData(\"discipline_data\", df.discipline.cat.codes)\n",
    "    applications = pm.MutableData(\"applications_data\", df.applications)\n",
    "\n",
    "    gender_bias = pm.Normal(\"gender_bias\", mu=-1, sigma=1, dims=(\"gender_dim\", \"discipline_dim\"))\n",
    "\n",
    "    p = pm.math.sigmoid(gender_bias[gender_idx, discipline_idx])\n",
    "    p = pm.Deterministic(\"p\", p)\n",
    "\n",
    "    awards_hat = pm.Binomial(\"awards_hat\", n=applications, p=p, observed=awards)\n",
    "    trace2 = pm.sample(2000, chains=4)\n"
   ]
  },
  {
   "cell_type": "code",
   "execution_count": 357,
   "metadata": {},
   "outputs": [
    {
     "data": {
      "image/png": "[encoded data removed]",
      "text/plain": [
       "<Figure size 1008x360 with 1 Axes>"
      ]
     },
     "metadata": {
      "needs_background": "light"
     },
     "output_type": "display_data"
    }
   ],
   "source": [
    "link = partial(utils.link, model2, trace2, gender_data=[0, 1], applications_data=[1, 1], var_names=[\"p\"])\n",
    "for i, discipline in enumerate(df.discipline.cat.categories):\n",
    "    posterior = link(discipline_data=[i, i]).posterior_predictive[\"p\"]\n",
    "    f, m = posterior[..., 0],  posterior[..., 1]\n",
    "    az.plot_dist(f - m, label=discipline, color=f\"C{i}\", figsize=(14,5))\n",
    "\n",
    "plt.ylabel(\"Density\")\n",
    "plt.title(\"F-M contrast for each discipline\")\n",
    "plt.axvline(0, c=\"grey\", lw=2, ls=\"dashed\")\n",
    "\n",
    "None"
   ]
  },
  {
   "cell_type": "code",
   "execution_count": 358,
   "metadata": {},
   "outputs": [],
   "source": [
    "total_apps = df.applications.sum()\n",
    "apps_per_discipline = df.applications.groupby(df.discipline).sum()"
   ]
  },
  {
   "cell_type": "code",
   "execution_count": 387,
   "metadata": {},
   "outputs": [],
   "source": [
    "f = [0] * total_apps\n",
    "m = [1] * total_apps\n",
    "applications = [1]*total_apps\n",
    "discipline = apps_per_discipline.index.codes.repeat(apps_per_discipline)\n",
    "\n",
    "link = partial(utils.link, model2, trace2,\n",
    "    applications_data=applications,\n",
    "    discipline_data=discipline,\n",
    "    var_names=[\"p\"])"
   ]
  },
  {
   "cell_type": "code",
   "execution_count": 388,
   "metadata": {},
   "outputs": [],
   "source": [
    "diff = link(gender_data=f).posterior_predictive - link(gender_data=m).posterior_predictive"
   ]
  },
  {
   "cell_type": "code",
   "execution_count": 391,
   "metadata": {},
   "outputs": [
    {
     "data": {
      "text/plain": [
       "<matplotlib.lines.Line2D at 0x2970dca60>"
      ]
     },
     "execution_count": 391,
     "metadata": {},
     "output_type": "execute_result"
    },
    {
     "data": {
      "image/png": "[encoded data removed]",
      "text/plain": [
       "<Figure size 1008x360 with 1 Axes>"
      ]
     },
     "metadata": {
      "needs_background": "light"
     },
     "output_type": "display_data"
    }
   ],
   "source": [
    "az.plot_dist(diff[\"p\"], label=\"Difference\", color=\"C0\", figsize=(14,5))\n",
    "plt.axvline(0, c=\"grey\", lw=2, ls=\"dashed\")"
   ]
  },
  {
   "cell_type": "code",
   "execution_count": 419,
   "metadata": {},
   "outputs": [
    {
     "data": {
      "text/plain": [
       "Index(['discipline', 'gender', 'applications', 'awards', 'awards_norm'], dtype='object')"
      ]
     },
     "execution_count": 419,
     "metadata": {},
     "output_type": "execute_result"
    }
   ],
   "source": [
    "df.columns"
   ]
  },
  {
   "cell_type": "code",
   "execution_count": 520,
   "metadata": {},
   "outputs": [
    {
     "data": {
      "text/html": [
       "\n",
       "<style>\n",
       "    /* Turns off some styling */\n",
       "    progress {\n",
       "        /* gets rid of default border in Firefox and Opera. */\n",
       "        border: none;\n",
       "        /* Needs to be in here for Safari polyfill so background images work as expected. */\n",
       "        background-size: auto;\n",
       "    }\n",
       "    progress:not([value]), progress:not([value])::-webkit-progress-bar {\n",
       "        background: repeating-linear-gradient(45deg, #7e7e7e, #7e7e7e 10px, #5c5c5c 10px, #5c5c5c 20px);\n",
       "    }\n",
       "    .progress-bar-interrupted, .progress-bar-interrupted::-webkit-progress-bar {\n",
       "        background: #F44336;\n",
       "    }\n",
       "</style>\n"
      ],
      "text/plain": [
       "<IPython.core.display.HTML object>"
      ]
     },
     "metadata": {},
     "output_type": "display_data"
    },
    {
     "data": {
      "text/html": [
       "\n",
       "    <div>\n",
       "      <progress value='8000' class='' max='8000' style='width:300px; height:20px; vertical-align: middle;'></progress>\n",
       "      100.00% [8000/8000 00:00&lt;00:00]\n",
       "    </div>\n",
       "    "
      ],
      "text/plain": [
       "<IPython.core.display.HTML object>"
      ]
     },
     "metadata": {},
     "output_type": "display_data"
    }
   ],
   "source": [
    "with model2:\n",
    "    samples2 = pm.sample_posterior_predictive(trace2, var_names=[\"gender_bias\"])"
   ]
  },
  {
   "cell_type": "code",
   "execution_count": 646,
   "metadata": {},
   "outputs": [
    {
     "data": {
      "text/html": [
       "<div>\n",
       "<style scoped>\n",
       "    .dataframe tbody tr th:only-of-type {\n",
       "        vertical-align: middle;\n",
       "    }\n",
       "\n",
       "    .dataframe tbody tr th {\n",
       "        vertical-align: top;\n",
       "    }\n",
       "\n",
       "    .dataframe thead th {\n",
       "        text-align: right;\n",
       "    }\n",
       "</style>\n",
       "<table border=\"1\" class=\"dataframe\">\n",
       "  <thead>\n",
       "    <tr style=\"text-align: right;\">\n",
       "      <th></th>\n",
       "      <th>f</th>\n",
       "      <th>m</th>\n",
       "      <th>f &gt; m</th>\n",
       "      <th>f_bias</th>\n",
       "      <th>m_bias</th>\n",
       "      <th>f_bias &gt; m_bias</th>\n",
       "      <th>bias_diff</th>\n",
       "      <th>awards</th>\n",
       "      <th>p_awards</th>\n",
       "    </tr>\n",
       "    <tr>\n",
       "      <th>discipline</th>\n",
       "      <th></th>\n",
       "      <th></th>\n",
       "      <th></th>\n",
       "      <th></th>\n",
       "      <th></th>\n",
       "      <th></th>\n",
       "      <th></th>\n",
       "      <th></th>\n",
       "      <th></th>\n",
       "    </tr>\n",
       "  </thead>\n",
       "  <tbody>\n",
       "    <tr>\n",
       "      <th>Chemical sciences</th>\n",
       "      <td>0.032828</td>\n",
       "      <td>0.050765</td>\n",
       "      <td>False</td>\n",
       "      <td>0.100504</td>\n",
       "      <td>0.101478</td>\n",
       "      <td>False</td>\n",
       "      <td>-0.001</td>\n",
       "      <td>0.068522</td>\n",
       "      <td>0.262295</td>\n",
       "    </tr>\n",
       "    <tr>\n",
       "      <th>Earth/life sciences</th>\n",
       "      <td>0.106061</td>\n",
       "      <td>0.095413</td>\n",
       "      <td>True</td>\n",
       "      <td>0.027604</td>\n",
       "      <td>0.081441</td>\n",
       "      <td>False</td>\n",
       "      <td>-0.054</td>\n",
       "      <td>0.119914</td>\n",
       "      <td>0.198582</td>\n",
       "    </tr>\n",
       "    <tr>\n",
       "      <th>Humanities</th>\n",
       "      <td>0.139731</td>\n",
       "      <td>0.140673</td>\n",
       "      <td>False</td>\n",
       "      <td>0.048981</td>\n",
       "      <td>0.026228</td>\n",
       "      <td>True</td>\n",
       "      <td>0.023</td>\n",
       "      <td>0.139186</td>\n",
       "      <td>0.164141</td>\n",
       "    </tr>\n",
       "    <tr>\n",
       "      <th>Interdisciplinary</th>\n",
       "      <td>0.065657</td>\n",
       "      <td>0.064220</td>\n",
       "      <td>True</td>\n",
       "      <td>0.067739</td>\n",
       "      <td>0.018986</td>\n",
       "      <td>True</td>\n",
       "      <td>0.049</td>\n",
       "      <td>0.062099</td>\n",
       "      <td>0.158470</td>\n",
       "    </tr>\n",
       "    <tr>\n",
       "      <th>Medical sciences</th>\n",
       "      <td>0.218855</td>\n",
       "      <td>0.149847</td>\n",
       "      <td>True</td>\n",
       "      <td>0.015663</td>\n",
       "      <td>0.045522</td>\n",
       "      <td>False</td>\n",
       "      <td>-0.030</td>\n",
       "      <td>0.160600</td>\n",
       "      <td>0.148515</td>\n",
       "    </tr>\n",
       "    <tr>\n",
       "      <th>Physical sciences</th>\n",
       "      <td>0.032828</td>\n",
       "      <td>0.082569</td>\n",
       "      <td>False</td>\n",
       "      <td>0.082130</td>\n",
       "      <td>0.049608</td>\n",
       "      <td>True</td>\n",
       "      <td>0.033</td>\n",
       "      <td>0.074946</td>\n",
       "      <td>0.201149</td>\n",
       "    </tr>\n",
       "    <tr>\n",
       "      <th>Physics</th>\n",
       "      <td>0.007576</td>\n",
       "      <td>0.040979</td>\n",
       "      <td>False</td>\n",
       "      <td>0.112817</td>\n",
       "      <td>0.106463</td>\n",
       "      <td>True</td>\n",
       "      <td>0.006</td>\n",
       "      <td>0.042827</td>\n",
       "      <td>0.263158</td>\n",
       "    </tr>\n",
       "    <tr>\n",
       "      <th>Social sciences</th>\n",
       "      <td>0.344276</td>\n",
       "      <td>0.259939</td>\n",
       "      <td>True</td>\n",
       "      <td>0.015984</td>\n",
       "      <td>0.028722</td>\n",
       "      <td>False</td>\n",
       "      <td>-0.013</td>\n",
       "      <td>0.239829</td>\n",
       "      <td>0.134293</td>\n",
       "    </tr>\n",
       "    <tr>\n",
       "      <th>Technical sciences</th>\n",
       "      <td>0.052189</td>\n",
       "      <td>0.115596</td>\n",
       "      <td>False</td>\n",
       "      <td>0.063694</td>\n",
       "      <td>0.032741</td>\n",
       "      <td>True</td>\n",
       "      <td>0.031</td>\n",
       "      <td>0.092077</td>\n",
       "      <td>0.171315</td>\n",
       "    </tr>\n",
       "  </tbody>\n",
       "</table>\n",
       "</div>"
      ],
      "text/plain": [
       "                            f         m  f > m    f_bias    m_bias  \\\n",
       "discipline                                                           \n",
       "Chemical sciences    0.032828  0.050765  False  0.100504  0.101478   \n",
       "Earth/life sciences  0.106061  0.095413   True  0.027604  0.081441   \n",
       "Humanities           0.139731  0.140673  False  0.048981  0.026228   \n",
       "Interdisciplinary    0.065657  0.064220   True  0.067739  0.018986   \n",
       "Medical sciences     0.218855  0.149847   True  0.015663  0.045522   \n",
       "Physical sciences    0.032828  0.082569  False  0.082130  0.049608   \n",
       "Physics              0.007576  0.040979  False  0.112817  0.106463   \n",
       "Social sciences      0.344276  0.259939   True  0.015984  0.028722   \n",
       "Technical sciences   0.052189  0.115596  False  0.063694  0.032741   \n",
       "\n",
       "                     f_bias > m_bias  bias_diff    awards  p_awards  \n",
       "discipline                                                           \n",
       "Chemical sciences              False     -0.001  0.068522  0.262295  \n",
       "Earth/life sciences            False     -0.054  0.119914  0.198582  \n",
       "Humanities                      True      0.023  0.139186  0.164141  \n",
       "Interdisciplinary               True      0.049  0.062099  0.158470  \n",
       "Medical sciences               False     -0.030  0.160600  0.148515  \n",
       "Physical sciences               True      0.033  0.074946  0.201149  \n",
       "Physics                         True      0.006  0.042827  0.263158  \n",
       "Social sciences                False     -0.013  0.239829  0.134293  \n",
       "Technical sciences              True      0.031  0.092077  0.171315  "
      ]
     },
     "execution_count": 646,
     "metadata": {},
     "output_type": "execute_result"
    }
   ],
   "source": [
    "apps_per_gender = df.groupby([\"discipline\", \"gender\"]).applications.sum().unstack()\n",
    "apps_per_gender = apps_per_gender / apps_per_gender.sum(axis=0)\n",
    "apps_per_gender[\"f > m\"] = apps_per_gender[\"f\"] > apps_per_gender[\"m\"]\n",
    "\n",
    "gender_bias = trace2.posterior[\"gender_bias\"]\n",
    "\n",
    "f_bias = utils.sigmoid(gender_bias[:, :, 0, :].to_numpy()).mean(axis=(0,1))\n",
    "m_bias = utils.sigmoid(gender_bias[:, :, 1, :].to_numpy()).mean(axis=(0,1))\n",
    "\n",
    "apps_per_gender[\"f_bias\"] = f_bias\n",
    "apps_per_gender[\"m_bias\"] = m_bias\n",
    "\n",
    "apps_per_gender[\"f_bias > m_bias\"] = f_bias > m_bias\n",
    "apps_per_gender[\"bias_diff\"] = (f_bias - m_bias).round(3)\n",
    "apps_per_gender = apps_per_gender.merge(\n",
    "    df.groupby([\"discipline\"]).awards.sum() / df.awards.sum(), left_index=True, right_index=True\n",
    ")\n",
    "\n",
    "d = df.groupby([\"discipline\"])[[\"applications\", \"awards\"]].apply(lambda x: x.sum()) \n",
    "p_awards = d.apply(lambda row: row.awards / row.applications, axis=1)\n",
    "p_awards.name = \"p_awards\"\n",
    "apps_per_gender = apps_per_gender.merge(p_awards, left_index=True, right_index=True)\n",
    "apps_per_gender"
   ]
  },
  {
   "cell_type": "code",
   "execution_count": 655,
   "metadata": {},
   "outputs": [
    {
     "data": {
      "text/plain": [
       "<matplotlib.legend.Legend at 0x2f79f6ce0>"
      ]
     },
     "execution_count": 655,
     "metadata": {},
     "output_type": "execute_result"
    },
    {
     "data": {
      "image/png": "[encoded data removed]",
      "text/plain": [
       "<Figure size 400x400 with 1 Axes>"
      ]
     },
     "metadata": {
      "needs_background": "light"
     },
     "output_type": "display_data"
    }
   ],
   "source": [
    "plt.figure(figsize=(5,5), dpi=80)\n",
    "\n",
    "c = apps_per_gender[\"f > m\"].map({True: \"C3\", False: \"C0\"})\n",
    "text = apps_per_gender[\"f_bias > m_bias\"].map({True: \"F\", False: \"M\"})\n",
    "plt.scatter(apps_per_gender[\"f\"], apps_per_gender[\"m\"], c=c, label=\"male\")\n",
    "\n",
    "for _, row in  apps_per_gender.iterrows():\n",
    "    gender = \"F\" if row.f_bias > row.m_bias else \"M\"\n",
    "    award = round(row.p_awards, 2)\n",
    "    plt.annotate(award, (row.f, row.m), xytext=(0, -10), textcoords=\"offset pixels\")\n",
    "    if abs(row.bias_diff) > 0.01:\n",
    "        plt.annotate(gender, (row.f, row.m), xytext=(0, 10), textcoords=\"offset pixels\")\n",
    "\n",
    "plt.gca().spines.right.set_visible(False)\n",
    "plt.gca().spines.top.set_visible(False)\n",
    "\n",
    "plt.xlim(0, 0.35)\n",
    "plt.xlabel(\"% female apps\")\n",
    "plt.ylim(0, 0.35)\n",
    "plt.ylabel(\"% male apps\")\n",
    "plt.plot([0, 0.35], [0, 0.35], c=\"grey\", lw=2, ls=\"dashed\")\n",
    "plt.tight_layout()\n",
    "plt.legend()\n",
    "        \n"
   ]
  }
 ],
 "metadata": {
  "kernelspec": {
   "display_name": "Python 3.8.5 ('rethinking')",
   "language": "python",
   "name": "python3"
  },
  "language_info": {
   "codemirror_mode": {
    "name": "ipython",
    "version": 3
   },
   "file_extension": ".py",
   "mimetype": "text/x-python",
   "name": "python",
   "nbconvert_exporter": "python",
   "pygments_lexer": "ipython3",
   "version": "3.10.5"
  },
  "orig_nbformat": 4,
  "vscode": {
   "interpreter": {
    "hash": "df22d9cdecafb0e9cd6e756d181f2397dc14b632247a3c51849726e777ab9699"
   }
  }
 },
 "nbformat": 4,
 "nbformat_minor": 2
}
