{
 "cells": [
  {
   "cell_type": "code",
   "execution_count": null,
   "metadata": {},
   "outputs": [],
   "source": [
    "import pymc3 as pm"
   ]
  },
  {
   "cell_type": "code",
   "execution_count": null,
   "metadata": {},
   "outputs": [],
   "source": [
    "import numpy as np\n",
    "from scipy import stats\n",
    "import matplotlib.pyplot as plt"
   ]
  },
  {
   "cell_type": "code",
   "execution_count": null,
   "metadata": {},
   "outputs": [],
   "source": [
    "data = np.repeat((0, 1), (3, 6))\n",
    "data"
   ]
  },
  {
   "cell_type": "code",
   "execution_count": null,
   "metadata": {},
   "outputs": [],
   "source": [
    "with pm.Model(\"\") as normal_approximation:\n",
    "    p = pm.Uniform('p', 0, 1)\n",
    "    w = pm.Binomial('w', n=len(data), p=p, observed=data.sum())\n",
    "    mean_q = pm.find_MAP()\n",
    "    std_q = ((1/pm.find_hessian(mean_q, vars=[p]))**0.5)[0]\n",
    "mean_q['p'], std_q"
   ]
  },
  {
   "cell_type": "code",
   "execution_count": null,
   "metadata": {},
   "outputs": [],
   "source": [
    "# analytical calculation\n",
    "w, n = 6, 9\n",
    "x = np.linspace(0, 1, 100)\n",
    "plt.plot(x, stats.beta.pdf(x , w+1, n-w+1),\n",
    "         label='True posterior')\n",
    "\n",
    "# quadratic approximation\n",
    "plt.plot(x, stats.norm.pdf(x, mean_q['p'], std_q),\n",
    "         label='Quadratic approximation')\n",
    "plt.legend(loc=0, fontsize=13)\n",
    "\n",
    "plt.title('n = {}'.format(n), fontsize=14)\n",
    "plt.xlabel('Proportion water', fontsize=14)\n",
    "plt.ylabel('Density', fontsize=14);"
   ]
  },
  {
   "cell_type": "markdown",
   "metadata": {},
   "source": [
    "## quantile approximation"
   ]
  },
  {
   "cell_type": "code",
   "execution_count": null,
   "metadata": {},
   "outputs": [],
   "source": [
    "x = np.linspace(0, 1, 20)\n",
    "prior = np.repeat((0, 1), (0, 20))\n",
    "likelihood = stats.binom.pmf(3, 4, p=x)\n",
    "unstd_posterior = likelihood*prior\n",
    "posterior = unstd_posterior / unstd_posterior.sum()"
   ]
  },
  {
   "cell_type": "code",
   "execution_count": null,
   "metadata": {},
   "outputs": [],
   "source": [
    "plt.scatter(x, posterior)"
   ]
  },
  {
   "cell_type": "code",
   "execution_count": null,
   "metadata": {},
   "outputs": [],
   "source": [
    "x = np.linspace(0, 1, 20)\n",
    "prior = np.ones(len(x))\n",
    "prior[x < 0.5] = 0\n",
    "prior[x >= 0.5] = 1\n",
    "likelihood = stats.binom.pmf(3, 3, p=x)\n",
    "unstd_posterior = likelihood*prior\n",
    "posterior = unstd_posterior / unstd_posterior.sum()"
   ]
  },
  {
   "cell_type": "code",
   "execution_count": null,
   "metadata": {},
   "outputs": [],
   "source": [
    "plt.scatter(x, posterior)"
   ]
  },
  {
   "cell_type": "code",
   "execution_count": null,
   "metadata": {},
   "outputs": [],
   "source": [
    "likelihood = np.array([0.2, 0.1])\n",
    "prior = np.array([1, 1])\n",
    "posterior = likelihood*prior\n",
    "posterior / sum(posterior)\n",
    "0.66666667 * 0.2 + 0.3333 * 0.1"
   ]
  },
  {
   "cell_type": "code",
   "execution_count": null,
   "metadata": {},
   "outputs": [],
   "source": [
    "# prob(A|twins)\n",
    "# prob(twins|A) * prob(A) / prob(twins)\n",
    "(0.1 * 0.5) / (0.1 * 0.5 + 0.2*0.5)"
   ]
  },
  {
   "cell_type": "code",
   "execution_count": 14,
   "metadata": {},
   "outputs": [],
   "source": [
    "import numpy as np\n",
    "from scipy import stats\n",
    "import matplotlib.pyplot as plt\n"
   ]
  },
  {
   "cell_type": "code",
   "execution_count": 116,
   "metadata": {},
   "outputs": [
    {
     "data": {
      "text/plain": [
       "(0.0, 10.0)"
      ]
     },
     "execution_count": 116,
     "metadata": {},
     "output_type": "execute_result"
    },
    {
     "data": {
      "image/png": "[encoded data removed]",
      "text/plain": [
       "<Figure size 432x288 with 1 Axes>"
      ]
     },
     "metadata": {
      "needs_background": "light"
     },
     "output_type": "display_data"
    }
   ],
   "source": [
    "plt.hist(np.exp(stats.norm.rvs(size=10000, loc=0, scale=1)), bins=1000);None\n",
    "plt.xlim(0, 10)"
   ]
  },
  {
   "cell_type": "code",
   "execution_count": 115,
   "metadata": {},
   "outputs": [
    {
     "data": {
      "text/plain": [
       "0.36787944117144233"
      ]
     },
     "execution_count": 115,
     "metadata": {},
     "output_type": "execute_result"
    }
   ],
   "source": [
    "x = stats.norm.rvs(size=10000, loc=0, scale=1).min()\n",
    "np.exp(-1)"
   ]
  },
  {
   "cell_type": "code",
   "execution_count": 53,
   "metadata": {},
   "outputs": [
    {
     "data": {
      "text/plain": [
       "54.59815003314423"
      ]
     },
     "execution_count": 53,
     "metadata": {},
     "output_type": "execute_result"
    }
   ],
   "source": [
    "np.e**4"
   ]
  },
  {
   "cell_type": "code",
   "execution_count": null,
   "metadata": {},
   "outputs": [],
   "source": []
  }
 ],
 "metadata": {
  "interpreter": {
   "hash": "df22d9cdecafb0e9cd6e756d181f2397dc14b632247a3c51849726e777ab9699"
  },
  "kernelspec": {
   "display_name": "Python 3.7.12 ('rethinking')",
   "language": "python",
   "name": "python3"
  },
  "language_info": {
   "codemirror_mode": {
    "name": "ipython",
    "version": 3
   },
   "file_extension": ".py",
   "mimetype": "text/x-python",
   "name": "python",
   "nbconvert_exporter": "python",
   "pygments_lexer": "ipython3",
   "version": "3.8.5"
  },
  "orig_nbformat": 4
 },
 "nbformat": 4,
 "nbformat_minor": 2
}
